{
 "cells": [
  {
   "cell_type": "markdown",
   "metadata": {
    "colab_type": "text",
    "id": "3cbb7fRy-eyr"
   },
   "source": [
    "# Artificial Neural Network - Power Plant Example (regression)"
   ]
  },
  {
   "cell_type": "markdown",
   "metadata": {
    "colab_type": "text",
    "id": "8sNDnxE2-pwE"
   },
   "source": [
    "### Importing the libraries"
   ]
  },
  {
   "cell_type": "code",
   "execution_count": 3,
   "metadata": {
    "colab": {},
    "colab_type": "code",
    "id": "lxChR1Rk-umf"
   },
   "outputs": [],
   "source": [
    "import numpy as np\n",
    "import pandas as pd\n",
    "import tensorflow as tf"
   ]
  },
  {
   "cell_type": "code",
   "execution_count": 4,
   "metadata": {
    "colab": {
     "base_uri": "https://localhost:8080/",
     "height": 34
    },
    "colab_type": "code",
    "id": "uBTqR3nacj0e",
    "outputId": "4c0bd183-e424-429a-9fba-ceb841c06888"
   },
   "outputs": [
    {
     "data": {
      "text/plain": [
       "'2.5.0'"
      ]
     },
     "execution_count": 4,
     "metadata": {},
     "output_type": "execute_result"
    }
   ],
   "source": [
    "tf.__version__"
   ]
  },
  {
   "cell_type": "markdown",
   "metadata": {
    "colab_type": "text",
    "id": "AG3FQEch-yuA"
   },
   "source": [
    "## Part 1 - Data Preprocessing"
   ]
  },
  {
   "cell_type": "markdown",
   "metadata": {
    "colab_type": "text",
    "id": "-4zq8Mza_D9O"
   },
   "source": [
    "### Importing the dataset"
   ]
  },
  {
   "cell_type": "code",
   "execution_count": 5,
   "metadata": {
    "colab": {},
    "colab_type": "code",
    "id": "B9CV13Co_HHM"
   },
   "outputs": [],
   "source": [
    "dataset = pd.read_excel('Folds5x2_pp.xlsx')\n",
    "X = dataset.iloc[:, :-1].values\n",
    "y = dataset.iloc[:, -1].values"
   ]
  },
  {
   "cell_type": "markdown",
   "metadata": {
    "colab_type": "text",
    "id": "VC6omXel_Up0"
   },
   "source": [
    "### Splitting the dataset into the Training set and Test set"
   ]
  },
  {
   "cell_type": "code",
   "execution_count": 6,
   "metadata": {
    "colab": {},
    "colab_type": "code",
    "id": "L5edeb2r_agx"
   },
   "outputs": [],
   "source": [
    "from sklearn.model_selection import train_test_split\n",
    "X_train, X_test, y_train, y_test = train_test_split(X, y, test_size = 0.2, random_state = 0)"
   ]
  },
  {
   "cell_type": "markdown",
   "metadata": {
    "colab_type": "text",
    "id": "_mSLlAT9_eyI"
   },
   "source": [
    "## Part 2 - Building the ANN"
   ]
  },
  {
   "cell_type": "markdown",
   "metadata": {
    "colab_type": "text",
    "id": "CsBULd_f_wLY"
   },
   "source": [
    "### Initializing the ANN"
   ]
  },
  {
   "cell_type": "code",
   "execution_count": 7,
   "metadata": {
    "colab": {},
    "colab_type": "code",
    "id": "J6Hd97Ls__Nz"
   },
   "outputs": [],
   "source": [
    "ann = tf.keras.models.Sequential()"
   ]
  },
  {
   "cell_type": "markdown",
   "metadata": {
    "colab_type": "text",
    "id": "iitAFJS_ABUn"
   },
   "source": [
    "### Adding the input layer and the first hidden layer"
   ]
  },
  {
   "cell_type": "code",
   "execution_count": 8,
   "metadata": {
    "colab": {},
    "colab_type": "code",
    "id": "ksO_Vv40AHix"
   },
   "outputs": [],
   "source": [
    "ann.add(tf.keras.layers.Dense(units=6, activation='relu'))"
   ]
  },
  {
   "cell_type": "markdown",
   "metadata": {
    "colab_type": "text",
    "id": "-lb4kK_wAKbs"
   },
   "source": [
    "### Adding the second hidden layer"
   ]
  },
  {
   "cell_type": "code",
   "execution_count": 9,
   "metadata": {
    "colab": {},
    "colab_type": "code",
    "id": "c2357OqEAQOQ"
   },
   "outputs": [],
   "source": [
    "ann.add(tf.keras.layers.Dense(units=6, activation='relu'))"
   ]
  },
  {
   "cell_type": "markdown",
   "metadata": {
    "colab_type": "text",
    "id": "jwMOmKb3AdBY"
   },
   "source": [
    "### Adding the output layer"
   ]
  },
  {
   "cell_type": "code",
   "execution_count": 10,
   "metadata": {
    "colab": {},
    "colab_type": "code",
    "id": "YFATpzsUAkLL"
   },
   "outputs": [],
   "source": [
    "ann.add(tf.keras.layers.Dense(units=1))"
   ]
  },
  {
   "cell_type": "markdown",
   "metadata": {
    "colab_type": "text",
    "id": "fq7e4fF6A1yy"
   },
   "source": [
    "## Part 3 - Training the ANN"
   ]
  },
  {
   "cell_type": "markdown",
   "metadata": {
    "colab_type": "text",
    "id": "qDeylAs2An25"
   },
   "source": [
    "### Compiling the ANN"
   ]
  },
  {
   "cell_type": "code",
   "execution_count": 11,
   "metadata": {
    "colab": {},
    "colab_type": "code",
    "id": "pesgbWlCAtB4"
   },
   "outputs": [],
   "source": [
    "ann.compile(optimizer = 'adam', loss = 'mean_squared_error')"
   ]
  },
  {
   "cell_type": "markdown",
   "metadata": {
    "colab_type": "text",
    "id": "YjVuiybYOo7r"
   },
   "source": [
    "### Training the ANN model on the Training set"
   ]
  },
  {
   "cell_type": "code",
   "execution_count": 12,
   "metadata": {
    "colab": {
     "base_uri": "https://localhost:8080/",
     "height": 1000
    },
    "colab_type": "code",
    "id": "c_vV-tiiA5zn",
    "outputId": "4a2b6ee6-ed75-4698-9069-b250e613803f"
   },
   "outputs": [
    {
     "name": "stdout",
     "output_type": "stream",
     "text": [
      "Epoch 1/100\n",
      "240/240 [==============================] - 1s 717us/step - loss: 73346.3516\n",
      "Epoch 2/100\n",
      "240/240 [==============================] - 0s 686us/step - loss: 176.0592\n",
      "Epoch 3/100\n",
      "240/240 [==============================] - 0s 665us/step - loss: 167.2800\n",
      "Epoch 4/100\n",
      "240/240 [==============================] - 0s 1ms/step - loss: 162.6236\n",
      "Epoch 5/100\n",
      "240/240 [==============================] - 0s 1ms/step - loss: 157.3122A: 0s - loss: 158.9\n",
      "Epoch 6/100\n",
      "240/240 [==============================] - 0s 682us/step - loss: 151.2270\n",
      "Epoch 7/100\n",
      "240/240 [==============================] - 0s 656us/step - loss: 144.4703\n",
      "Epoch 8/100\n",
      "240/240 [==============================] - 0s 669us/step - loss: 137.0617\n",
      "Epoch 9/100\n",
      "240/240 [==============================] - 0s 673us/step - loss: 129.5073\n",
      "Epoch 10/100\n",
      "240/240 [==============================] - 0s 669us/step - loss: 121.7863\n",
      "Epoch 11/100\n",
      "240/240 [==============================] - 0s 682us/step - loss: 113.3424\n",
      "Epoch 12/100\n",
      "240/240 [==============================] - 0s 690us/step - loss: 105.0076\n",
      "Epoch 13/100\n",
      "240/240 [==============================] - 0s 661us/step - loss: 97.0909\n",
      "Epoch 14/100\n",
      "240/240 [==============================] - 0s 652us/step - loss: 89.3596\n",
      "Epoch 15/100\n",
      "240/240 [==============================] - 0s 677us/step - loss: 82.0035\n",
      "Epoch 16/100\n",
      "240/240 [==============================] - 0s 673us/step - loss: 75.0309\n",
      "Epoch 17/100\n",
      "240/240 [==============================] - 0s 677us/step - loss: 69.2161\n",
      "Epoch 18/100\n",
      "240/240 [==============================] - 0s 782us/step - loss: 63.6538\n",
      "Epoch 19/100\n",
      "240/240 [==============================] - 0s 640us/step - loss: 58.9817\n",
      "Epoch 20/100\n",
      "240/240 [==============================] - 0s 661us/step - loss: 55.8203\n",
      "Epoch 21/100\n",
      "240/240 [==============================] - 0s 707us/step - loss: 52.5309\n",
      "Epoch 22/100\n",
      "240/240 [==============================] - 0s 669us/step - loss: 49.5958\n",
      "Epoch 23/100\n",
      "240/240 [==============================] - 0s 707us/step - loss: 47.7911\n",
      "Epoch 24/100\n",
      "240/240 [==============================] - 0s 715us/step - loss: 45.7958\n",
      "Epoch 25/100\n",
      "240/240 [==============================] - 0s 677us/step - loss: 44.5688\n",
      "Epoch 26/100\n",
      "240/240 [==============================] - 0s 673us/step - loss: 42.3162\n",
      "Epoch 27/100\n",
      "240/240 [==============================] - 0s 677us/step - loss: 41.1918\n",
      "Epoch 28/100\n",
      "240/240 [==============================] - 0s 677us/step - loss: 39.6046\n",
      "Epoch 29/100\n",
      "240/240 [==============================] - 0s 899us/step - loss: 39.0461\n",
      "Epoch 30/100\n",
      "240/240 [==============================] - 0s 689us/step - loss: 37.2232\n",
      "Epoch 31/100\n",
      "240/240 [==============================] - 0s 669us/step - loss: 35.8252\n",
      "Epoch 32/100\n",
      "240/240 [==============================] - 0s 686us/step - loss: 34.7296\n",
      "Epoch 33/100\n",
      "240/240 [==============================] - 0s 661us/step - loss: 33.1628\n",
      "Epoch 34/100\n",
      "240/240 [==============================] - 0s 673us/step - loss: 32.6365\n",
      "Epoch 35/100\n",
      "240/240 [==============================] - 0s 661us/step - loss: 32.0910\n",
      "Epoch 36/100\n",
      "240/240 [==============================] - 0s 849us/step - loss: 30.9724\n",
      "Epoch 37/100\n",
      "240/240 [==============================] - 0s 652us/step - loss: 30.3064\n",
      "Epoch 38/100\n",
      "240/240 [==============================] - 0s 673us/step - loss: 30.6886\n",
      "Epoch 39/100\n",
      "240/240 [==============================] - 0s 665us/step - loss: 29.1022\n",
      "Epoch 40/100\n",
      "240/240 [==============================] - 0s 661us/step - loss: 28.4648\n",
      "Epoch 41/100\n",
      "240/240 [==============================] - 0s 782us/step - loss: 28.7707\n",
      "Epoch 42/100\n",
      "240/240 [==============================] - 0s 690us/step - loss: 28.3083\n",
      "Epoch 43/100\n",
      "240/240 [==============================] - 0s 651us/step - loss: 28.0717\n",
      "Epoch 44/100\n",
      "240/240 [==============================] - 0s 636us/step - loss: 28.6521\n",
      "Epoch 45/100\n",
      "240/240 [==============================] - 0s 690us/step - loss: 28.2903\n",
      "Epoch 46/100\n",
      "240/240 [==============================] - 0s 673us/step - loss: 26.9485\n",
      "Epoch 47/100\n",
      "240/240 [==============================] - 0s 1ms/step - loss: 26.7978\n",
      "Epoch 48/100\n",
      "240/240 [==============================] - 0s 1ms/step - loss: 27.3029\n",
      "Epoch 49/100\n",
      "240/240 [==============================] - 0s 799us/step - loss: 27.4959\n",
      "Epoch 50/100\n",
      "240/240 [==============================] - 0s 707us/step - loss: 27.2800\n",
      "Epoch 51/100\n",
      "240/240 [==============================] - 0s 807us/step - loss: 27.5400\n",
      "Epoch 52/100\n",
      "240/240 [==============================] - 0s 694us/step - loss: 27.8168\n",
      "Epoch 53/100\n",
      "240/240 [==============================] - 0s 667us/step - loss: 27.4867\n",
      "Epoch 54/100\n",
      "240/240 [==============================] - 0s 832us/step - loss: 27.0110\n",
      "Epoch 55/100\n",
      "240/240 [==============================] - 0s 2ms/step - loss: 27.1618: 0s - loss: 26.97\n",
      "Epoch 56/100\n",
      "240/240 [==============================] - 0s 1ms/step - loss: 27.2499\n",
      "Epoch 57/100\n",
      "240/240 [==============================] - 0s 1ms/step - loss: 27.2216\n",
      "Epoch 58/100\n",
      "240/240 [==============================] - 0s 2ms/step - loss: 27.9981\n",
      "Epoch 59/100\n",
      "240/240 [==============================] - 0s 978us/step - loss: 26.7413\n",
      "Epoch 60/100\n",
      "240/240 [==============================] - 0s 800us/step - loss: 27.7811\n",
      "Epoch 61/100\n",
      "240/240 [==============================] - 0s 956us/step - loss: 27.0771\n",
      "Epoch 62/100\n",
      "240/240 [==============================] - 0s 941us/step - loss: 27.4413\n",
      "Epoch 63/100\n",
      "240/240 [==============================] - 0s 656us/step - loss: 27.4186\n",
      "Epoch 64/100\n",
      "240/240 [==============================] - 0s 1ms/step - loss: 27.0198\n",
      "Epoch 65/100\n",
      "240/240 [==============================] - 0s 899us/step - loss: 27.0840\n",
      "Epoch 66/100\n",
      "240/240 [==============================] - 0s 778us/step - loss: 28.1283\n",
      "Epoch 67/100\n",
      "240/240 [==============================] - 0s 740us/step - loss: 27.5821\n",
      "Epoch 68/100\n",
      "240/240 [==============================] - 0s 677us/step - loss: 27.1541\n",
      "Epoch 69/100\n",
      "240/240 [==============================] - 0s 974us/step - loss: 27.9394\n",
      "Epoch 70/100\n",
      "240/240 [==============================] - 0s 748us/step - loss: 27.8417\n",
      "Epoch 71/100\n",
      "240/240 [==============================] - 0s 757us/step - loss: 27.2130\n",
      "Epoch 72/100\n",
      "240/240 [==============================] - 0s 757us/step - loss: 26.8434\n",
      "Epoch 73/100\n",
      "240/240 [==============================] - 0s 820us/step - loss: 27.7492\n",
      "Epoch 74/100\n",
      "240/240 [==============================] - 0s 706us/step - loss: 27.3718\n",
      "Epoch 75/100\n",
      "240/240 [==============================] - 0s 665us/step - loss: 27.3931\n",
      "Epoch 76/100\n",
      "240/240 [==============================] - 0s 770us/step - loss: 27.0942\n",
      "Epoch 77/100\n",
      "240/240 [==============================] - 0s 740us/step - loss: 27.2478\n",
      "Epoch 78/100\n",
      "240/240 [==============================] - 0s 736us/step - loss: 26.7248\n",
      "Epoch 79/100\n",
      "240/240 [==============================] - 0s 1ms/step - loss: 27.4269\n",
      "Epoch 80/100\n",
      "240/240 [==============================] - 0s 707us/step - loss: 27.9994\n",
      "Epoch 81/100\n",
      "240/240 [==============================] - 0s 702us/step - loss: 27.2145\n",
      "Epoch 82/100\n",
      "240/240 [==============================] - 0s 780us/step - loss: 27.7388\n",
      "Epoch 83/100\n",
      "240/240 [==============================] - 0s 744us/step - loss: 27.4697\n",
      "Epoch 84/100\n",
      "240/240 [==============================] - 0s 753us/step - loss: 27.1222\n",
      "Epoch 85/100\n",
      "240/240 [==============================] - 0s 807us/step - loss: 26.8952\n",
      "Epoch 86/100\n",
      "240/240 [==============================] - 0s 824us/step - loss: 27.0586\n",
      "Epoch 87/100\n",
      "240/240 [==============================] - 0s 782us/step - loss: 27.4298\n",
      "Epoch 88/100\n",
      "240/240 [==============================] - 0s 688us/step - loss: 28.1650\n",
      "Epoch 89/100\n",
      "240/240 [==============================] - 0s 707us/step - loss: 27.0019\n",
      "Epoch 90/100\n",
      "240/240 [==============================] - 0s 757us/step - loss: 27.2681\n",
      "Epoch 91/100\n",
      "240/240 [==============================] - 0s 752us/step - loss: 27.8017\n",
      "Epoch 92/100\n",
      "240/240 [==============================] - 0s 684us/step - loss: 27.7182\n",
      "Epoch 93/100\n",
      "240/240 [==============================] - 0s 677us/step - loss: 26.7375\n",
      "Epoch 94/100\n",
      "240/240 [==============================] - 0s 690us/step - loss: 27.5495\n",
      "Epoch 95/100\n",
      "240/240 [==============================] - 0s 784us/step - loss: 27.7711\n",
      "Epoch 96/100\n",
      "240/240 [==============================] - 0s 736us/step - loss: 27.1987\n",
      "Epoch 97/100\n",
      "240/240 [==============================] - 0s 782us/step - loss: 26.8091\n",
      "Epoch 98/100\n",
      "240/240 [==============================] - 0s 748us/step - loss: 26.5874\n",
      "Epoch 99/100\n",
      "240/240 [==============================] - 0s 815us/step - loss: 27.1330\n",
      "Epoch 100/100\n",
      "240/240 [==============================] - 0s 680us/step - loss: 26.5864\n"
     ]
    },
    {
     "data": {
      "text/plain": [
       "<tensorflow.python.keras.callbacks.History at 0x1c04cc5cb50>"
      ]
     },
     "execution_count": 12,
     "metadata": {},
     "output_type": "execute_result"
    }
   ],
   "source": [
    "ann.fit(X_train, y_train, batch_size = 32, epochs = 100)"
   ]
  },
  {
   "cell_type": "markdown",
   "metadata": {
    "colab_type": "text",
    "id": "0H0zKKNEBLD5"
   },
   "source": [
    "### Predicting the results of the Test set"
   ]
  },
  {
   "cell_type": "code",
   "execution_count": 13,
   "metadata": {
    "colab": {
     "base_uri": "https://localhost:8080/",
     "height": 134
    },
    "colab_type": "code",
    "id": "IA0yApEmBG1X",
    "outputId": "cb981e1f-9204-4a2a-fece-9d66a6919189"
   },
   "outputs": [
    {
     "name": "stdout",
     "output_type": "stream",
     "text": [
      "[[432.56 431.23]\n",
      " [463.83 460.01]\n",
      " [467.35 461.14]\n",
      " ...\n",
      " [474.59 473.26]\n",
      " [441.36 438.  ]\n",
      " [460.62 463.28]]\n"
     ]
    }
   ],
   "source": [
    "y_pred = ann.predict(X_test)\n",
    "np.set_printoptions(precision=2)\n",
    "print(np.concatenate((y_pred.reshape(len(y_pred),1), y_test.reshape(len(y_test),1)),1))"
   ]
  }
 ],
 "metadata": {
  "colab": {
   "collapsed_sections": [],
   "name": "Artificial Neural Network",
   "provenance": [],
   "toc_visible": true
  },
  "kernelspec": {
   "display_name": "Python 3",
   "language": "python",
   "name": "python3"
  },
  "language_info": {
   "codemirror_mode": {
    "name": "ipython",
    "version": 3
   },
   "file_extension": ".py",
   "mimetype": "text/x-python",
   "name": "python",
   "nbconvert_exporter": "python",
   "pygments_lexer": "ipython3",
   "version": "3.9.5"
  }
 },
 "nbformat": 4,
 "nbformat_minor": 4
}
